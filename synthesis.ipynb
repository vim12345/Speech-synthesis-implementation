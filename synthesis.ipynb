{
  "nbformat": 4,
  "nbformat_minor": 0,
  "metadata": {
    "colab": {
      "provenance": []
    },
    "kernelspec": {
      "name": "python3",
      "display_name": "Python 3"
    },
    "language_info": {
      "name": "python"
    }
  },
  "cells": [
    {
      "cell_type": "code",
      "execution_count": null,
      "metadata": {
        "id": "4ritukl8pBgB"
      },
      "outputs": [],
      "source": [
        "# Install TTS library for text-to-speech synthesis\n",
        "!pip install TTS\n",
        "from TTS.api import TTS\n",
        "import soundfile as sf"
      ]
    },
    {
      "cell_type": "code",
      "source": [
        "# 1. Load a pre-trained TTS model\n",
        "# Using the TTS library, we load a pre-trained model for speech synthesis.\n",
        "# You can specify the model name for the desired language and voice style.\n",
        "model_name = \"tts_models/en/ljspeech/tacotron2-DDC\"\n",
        "tts = TTS(model_name=model_name)\n",
        ""
      ],
      "metadata": {
        "id": "q6OBTLMkpQ2P"
      },
      "execution_count": null,
      "outputs": []
    },
    {
      "cell_type": "code",
      "source": [
        "# 2. Text-to-Speech Conversion\n",
        "text = \"Hello, welcome to the text to speech synthesis demonstration!\"\n",
        "speech = tts.tts(text)\n",
        ""
      ],
      "metadata": {
        "id": "RnnHu4j8pTHi"
      },
      "execution_count": null,
      "outputs": []
    },
    {
      "cell_type": "code",
      "source": [
        "# 3. Save the generated speech as a WAV file\n",
        "output_file = \"output_speech.wav\"\n",
        "sf.write(output_file, speech, 22050)  # Save the audio file with 22.05kHz sampling rate\n",
        "\n"
      ],
      "metadata": {
        "id": "TQMm_7kApXiu"
      },
      "execution_count": null,
      "outputs": []
    },
    {
      "cell_type": "code",
      "source": [
        "# 4. Optionally, play the sound to hear the result\n",
        "import os\n",
        "os.system(f\"aplay {output_file}\")  # This works on Linux systems; on Windows, use any audio player"
      ],
      "metadata": {
        "id": "wcs7N-EtpZqv"
      },
      "execution_count": null,
      "outputs": []
    },
    {
      "cell_type": "code",
      "source": [],
      "metadata": {
        "id": "nyCfF7kUpbon"
      },
      "execution_count": null,
      "outputs": []
    }
  ]
}